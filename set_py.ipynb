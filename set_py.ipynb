{
  "nbformat": 4,
  "nbformat_minor": 0,
  "metadata": {
    "colab": {
      "provenance": [],
      "authorship_tag": "ABX9TyOBVIBkwN70JsrBxqUpNk8f",
      "include_colab_link": true
    },
    "kernelspec": {
      "name": "python3",
      "display_name": "Python 3"
    },
    "language_info": {
      "name": "python"
    }
  },
  "cells": [
    {
      "cell_type": "markdown",
      "metadata": {
        "id": "view-in-github",
        "colab_type": "text"
      },
      "source": [
        "<a href=\"https://colab.research.google.com/github/Delegate-is/Machine_Learning/blob/main/set_py.ipynb\" target=\"_parent\"><img src=\"https://colab.research.google.com/assets/colab-badge.svg\" alt=\"Open In Colab\"/></a>"
      ]
    },
    {
      "cell_type": "code",
      "execution_count": 2,
      "metadata": {
        "colab": {
          "base_uri": "https://localhost:8080/",
          "height": 228
        },
        "id": "JcRzMX3hBz5f",
        "outputId": "ab3645a4-4ad8-4364-8660-656522bfee07"
      },
      "outputs": [
        {
          "name": "stdout",
          "output_type": "stream",
          "text": [
            "Number 1 :5\n"
          ]
        },
        {
          "output_type": "error",
          "ename": "AttributeError",
          "evalue": "'dict' object has no attribute 'add'",
          "traceback": [
            "\u001b[0;31m---------------------------------------------------------------------------\u001b[0m",
            "\u001b[0;31mAttributeError\u001b[0m                            Traceback (most recent call last)",
            "\u001b[0;32m/tmp/ipython-input-2-580655755.py\u001b[0m in \u001b[0;36m<cell line: 0>\u001b[0;34m()\u001b[0m\n\u001b[1;32m      3\u001b[0m \u001b[0;32mfor\u001b[0m \u001b[0mi\u001b[0m \u001b[0;32min\u001b[0m \u001b[0mrange\u001b[0m\u001b[0;34m(\u001b[0m\u001b[0;36m6\u001b[0m\u001b[0;34m)\u001b[0m\u001b[0;34m:\u001b[0m\u001b[0;34m\u001b[0m\u001b[0;34m\u001b[0m\u001b[0m\n\u001b[1;32m      4\u001b[0m   \u001b[0mnum1\u001b[0m\u001b[0;34m=\u001b[0m\u001b[0mint\u001b[0m\u001b[0;34m(\u001b[0m\u001b[0minput\u001b[0m\u001b[0;34m(\u001b[0m \u001b[0;34mf\"Number {i+1} :\"\u001b[0m\u001b[0;34m)\u001b[0m\u001b[0;34m)\u001b[0m\u001b[0;34m\u001b[0m\u001b[0;34m\u001b[0m\u001b[0m\n\u001b[0;32m----> 5\u001b[0;31m   \u001b[0mset1\u001b[0m\u001b[0;34m.\u001b[0m\u001b[0madd\u001b[0m\u001b[0;34m(\u001b[0m\u001b[0mnum1\u001b[0m\u001b[0;34m)\u001b[0m\u001b[0;34m\u001b[0m\u001b[0;34m\u001b[0m\u001b[0m\n\u001b[0m\u001b[1;32m      6\u001b[0m \u001b[0;32mfor\u001b[0m \u001b[0mi\u001b[0m \u001b[0;32min\u001b[0m \u001b[0mrange\u001b[0m\u001b[0;34m(\u001b[0m\u001b[0;36m6\u001b[0m\u001b[0;34m)\u001b[0m\u001b[0;34m:\u001b[0m\u001b[0;34m\u001b[0m\u001b[0;34m\u001b[0m\u001b[0m\n\u001b[1;32m      7\u001b[0m   \u001b[0mnum2\u001b[0m\u001b[0;34m=\u001b[0m\u001b[0mint\u001b[0m\u001b[0;34m(\u001b[0m\u001b[0minput\u001b[0m\u001b[0;34m(\u001b[0m \u001b[0;34mf\"Number {i+1} :\"\u001b[0m\u001b[0;34m)\u001b[0m\u001b[0;34m)\u001b[0m\u001b[0;34m\u001b[0m\u001b[0;34m\u001b[0m\u001b[0m\n",
            "\u001b[0;31mAttributeError\u001b[0m: 'dict' object has no attribute 'add'"
          ]
        }
      ],
      "source": [
        "set1 = {}\n",
        "set2 = {}\n",
        "for i in range(6):\n",
        "  num1=int(input( f\"Number {i+1} :\"))\n",
        "  set1.add(num1)\n",
        "for i in range(6):\n",
        "  num2=int(input( f\"Number {i+1} :\"))\n",
        "  set2.add(num1)\n",
        "print(set1)\n",
        "print(set2)\n",
        "print(set1.union(set2))\n",
        "print(set1.intersection(set2))\n",
        "print(set1.difference(set2))\n",
        "print(set2.symetric_difference(set1))"
      ]
    },
    {
      "source": [
        "3\n",
        "# Initialize set1 and set2 as empty sets\n",
        "set1 = set()\n",
        "set2 = set()\n",
        "\n",
        "for i in range(6):\n",
        "  num1=int(input( f\"Number {i+1} :\"))\n",
        "  set1.add(num1)\n",
        "\n",
        "for i in range(6):\n",
        "  num2=int(input( f\"Number {i+1} :\"))\n",
        "  # Corrected to add num2 to set2\n",
        "  set2.add(num2)\n",
        "\n",
        "print(set1)\n",
        "print(set2)\n",
        "print(set1.union(set2))\n",
        "print(set1.intersection(set2))\n",
        "print(set1.difference(set2))\n",
        "# Corrected the typo in the method name\n",
        "print(set2.symmetric_difference(set1))\n",
        "\n",
        "\n",
        "set1 = set(map(int, input(\"Enter five numbers for set1 (separated by space): \").split()))\n",
        "set2 = set(map(int, input(\"Enter five numbers for set2 (separated by space): \").split()))\n",
        "# Print both sets\n",
        "print(\"Set 1:\", set1)\n",
        "print(\"Set 2:\", set2)\n",
        "# Perform set operations and print results\n",
        "print(\"Union of set1 and set2:\", set1.union(set2))\n",
        "print(\"Intersection of set1 and set2:\", set1.intersection(set2))\n",
        "print(\"Difference (set1 - set2):\", set1.difference(set2))\n",
        "print(\"Symmetric difference between set1 and set2:\", set1.symmetric_difference(set2))"
      ],
      "cell_type": "code",
      "metadata": {
        "colab": {
          "base_uri": "https://localhost:8080/"
        },
        "id": "v9mp6d98C_5q",
        "outputId": "071bd637-3331-4a33-b61f-f7818a06b8e1"
      },
      "execution_count": 5,
      "outputs": [
        {
          "output_type": "stream",
          "name": "stdout",
          "text": [
            "Number 1 :3\n",
            "Number 2 :3\n",
            "Number 3 :3\n",
            "Number 4 :3\n",
            "Number 5 :3\n",
            "Number 6 :3\n",
            "Number 1 :3\n",
            "Number 2 :3\n",
            "Number 3 :3\n",
            "Number 4 :3\n",
            "Number 5 :3\n",
            "Number 6 :3\n",
            "{3}\n",
            "{3}\n",
            "{3}\n",
            "{3}\n",
            "set()\n",
            "set()\n",
            "Enter five numbers for set1 (separated by space): 3 3 3 3 3\n",
            "Enter five numbers for set2 (separated by space): 3 3 3 3 3\n",
            "Set 1: {3}\n",
            "Set 2: {3}\n",
            "Union of set1 and set2: {3}\n",
            "Intersection of set1 and set2: {3}\n",
            "Difference (set1 - set2): set()\n",
            "Symmetric difference between set1 and set2: set()\n"
          ]
        }
      ]
    },
    {
      "cell_type": "markdown",
      "source": [
        "\n"
      ],
      "metadata": {
        "id": "7jqEr6vwB2uH"
      }
    }
  ]
}