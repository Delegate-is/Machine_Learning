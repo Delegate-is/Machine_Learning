import pandas as pd
df = pd.read_csv('vgsales.csv')
df.shape
df.describe
df.values
import pandas as pd
from sklearn.tree import DecisionTreeClassifier
from sklearn.model_selection import train_test_split
from sklearn.metrics import accuracy_score

music_box = pd.read_csv('music.csv')
X = music_box.drop(columns=['genre'])
y = music_box['genre']
X_train, X_test, y_train, y_test = train_test_split(X, y, test_size=0.8)

model = DecisionTreeClassifier()
model.fit(X_train, y_train)
predictions = model.predict(X_test)

score = accuracy_score(y_test, predictions)
score
